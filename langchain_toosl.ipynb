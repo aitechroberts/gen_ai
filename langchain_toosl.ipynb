{
 "cells": [
  {
   "cell_type": "markdown",
   "metadata": {},
   "source": [
    "# Basic Arxiv Query"
   ]
  },
  {
   "cell_type": "code",
   "execution_count": null,
   "metadata": {},
   "outputs": [],
   "source": [
    "from langchain.tools import ArxivQueryRun\n",
    "\n",
    "arxiv_tool = ArxivQueryRun()\n",
    "\n",
    "query = \"machine learning\"\n",
    "\n",
    "results = arxiv_tool.run({\"query\": query})\n",
    "\n",
    "print(results)\n",
    "\n"
   ]
  },
  {
   "cell_type": "markdown",
   "metadata": {},
   "source": [
    "# Control Num Docs"
   ]
  },
  {
   "cell_type": "code",
   "execution_count": null,
   "metadata": {},
   "outputs": [],
   "source": [
    "from langchain.utilities import ArxivAPIWrapper\n",
    "from langchain.tools import Tool\n",
    "\n",
    "arxiv_wrapper = ArxivAPIWrapper(top_k_results=7)\n",
    "\n",
    "arxiv_tool = Tool(\n",
    "    name=\"arxiv\",\n",
    "    func=arxiv_wrapper.run,\n",
    "    description=\"Search for research papers on Arxiv\"\n",
    ")\n",
    "\n",
    "query=\"machine learning\"\n",
    "results = arxiv_tool.run(query)\n",
    "\n"
   ]
  }
 ],
 "metadata": {
  "kernelspec": {
   "display_name": "Python 3.10 ML Env",
   "language": "python",
   "name": "py3-10-ml-env"
  },
  "language_info": {
   "name": "python",
   "version": "3.10.12"
  }
 },
 "nbformat": 4,
 "nbformat_minor": 2
}
