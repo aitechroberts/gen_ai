{
 "cells": [
  {
   "cell_type": "code",
   "execution_count": null,
   "metadata": {},
   "outputs": [],
   "source": [
    "from langchain import hub\n",
    "from langchain.agents import AgentExecutor, create_react_agent, load_tools\n",
    "from langchain_google_vertexai import ChatVertexAI\n",
    "\n",
    "llm = ChatVertexAI(\n",
    "    model_name=\"gemini-1.5-pro-001\",\n",
    "    temperature=0,\n",
    "    allow_image_uploads=False\n",
    ")\n",
    "\n",
    "tools = load_tools(\n",
    "    [\"arxiv\"]\n",
    ")\n",
    "\n",
    "# Langsmith Prompt Hub\n",
    "prompt = hub.pull(\"hwchase17/react\")\n",
    "\n",
    "agent = create_react_agent(llm, tools, prompt)\n",
    "agent_executor = AgentExecutor(agent=agent, Tools=tools, verbose=True)\n",
    "\n",
    "agent_executor.invoke(\n",
    "    {\n",
    "        \"input\": \"Whats the paper that has the following title about?\" +\n",
    "        \"The Performance of the Langevin Algorithm Without Smoothness Adjustments\"\n",
    "    }\n",
    ")"
   ]
  },
  {
   "cell_type": "markdown",
   "metadata": {},
   "source": [
    "# Another Example"
   ]
  },
  {
   "cell_type": "code",
   "execution_count": null,
   "metadata": {},
   "outputs": [],
   "source": [
    "from langchain import hub\n",
    "from langchain.agents import load_tools, AgentExector, create_react_agent\n",
    "from langchain_google_vertexai import ChatVertexAI\n",
    "\n",
    "llm = llm = ChatVertexAI(\n",
    "    model_name=\"gemini-1.5-pro-001\",\n",
    "    temperature=0,\n",
    "    allow_image_uploads=False\n",
    ")\n",
    "\n",
    "tools = load_tools([\"wikipedia\", \"llm-math\"], llm=llm)\n",
    "prompt = hub.pull(\"hwchase17/react\")\n",
    "agent = create_react_agent(llm, tools, prompt)\n",
    "agent_executor = AgentExector(agent=agent, tools=tools, verbose=True)\n",
    "output_1=agent_executor({\"input\": \"20 + 100 is \"})\n",
    "output_2=agent_executor.invoke({\"input\": \"What does wikipedia say about the statue of liberty\"})\n"
   ]
  },
  {
   "cell_type": "markdown",
   "metadata": {},
   "source": [
    "# Structured Chat Agent"
   ]
  },
  {
   "cell_type": "code",
   "execution_count": null,
   "metadata": {},
   "outputs": [],
   "source": [
    "from langchain import hub\n",
    "from langchain.agents import load_tools, AgentExecutor, create_structured_chat_agent\n",
    "from langchain_google_vertexai import ChatVertexAI \n",
    "\n",
    "llm = ChatVertexAI(\n",
    "    model_name=\"gemini-1.5-pro-001\",\n",
    "    temperature=0,\n",
    "    allow_image_uploads=False\n",
    ")\n",
    "\n",
    "tools = load_tools([\"wikipedia\", \"llm-math\"], llm=llm)\n",
    "prompt = hub.pull(\"hwchase17/react\")\n",
    "agent = create_react_agent(llm, tools, prompt)\n",
    "agent_executor = AgentExector(agent=agent, tools=tools, verbose=True)\n",
    "output_struct=agent_executor({\"input\": \"Hello 4+5!\"})"
   ]
  },
  {
   "cell_type": "markdown",
   "metadata": {},
   "source": [
    "# Self-ask with Search Agent Example"
   ]
  },
  {
   "cell_type": "code",
   "execution_count": null,
   "metadata": {},
   "outputs": [],
   "source": [
    "from langchain import hub\n",
    "from langchain.agents import AgentExecutor, create_self_ask_with_search_agent, Tool\n",
    "from langchain_google_vertexai import ChatVertexAI \n",
    "from langchain import Wikipedia\n",
    "\n",
    "llm = ChatVertexAI(\n",
    "    model_name=\"gemini-1.5-pro-001\",\n",
    "    temperature=0,\n",
    "    allow_image_uploads=False\n",
    ")\n",
    "\n",
    "wikipedia=Wikipedia()\n",
    "tools = [\n",
    "    Tool(\n",
    "        name=\"Intermediate Answer\",\n",
    "        func=wikipedia.search,\n",
    "        description=\"wikipedia search\"\n",
    "    )\n",
    "]\n",
    "prompt = hub.pull(\"hwchase17/self-ask-with-search\")\n",
    "agent = create_self_ask_with_search_agent(llm, tools, prompt)\n",
    "agent_executor = AgentExector(agent=agent, tools=tools, verbose=True, handle_parsing_errors=True)\n",
    "output_struct=agent_executor({\"input\": \"What is the capital of Spain\"}) # Not a reasoning question, ask a reasoning question"
   ]
  }
 ],
 "metadata": {
  "kernelspec": {
   "display_name": "Python 3.10 ML Env",
   "language": "python",
   "name": "py3-10-ml-env"
  },
  "language_info": {
   "codemirror_mode": {
    "name": "ipython",
    "version": 3
   },
   "file_extension": ".py",
   "mimetype": "text/x-python",
   "name": "python",
   "nbconvert_exporter": "python",
   "pygments_lexer": "ipython3",
   "version": "3.10.12"
  }
 },
 "nbformat": 4,
 "nbformat_minor": 2
}
